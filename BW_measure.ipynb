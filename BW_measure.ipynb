{
 "cells": [
  {
   "cell_type": "code",
   "execution_count": 1,
   "id": "fc68ddad",
   "metadata": {},
   "outputs": [],
   "source": [
    "import numpy as np\n",
    "from GaussianOptics import Guassian_taper"
   ]
  },
  {
   "cell_type": "code",
   "execution_count": 4,
   "id": "fee0b5d3",
   "metadata": {},
   "outputs": [
    {
     "data": {
      "text/plain": [
       "array([1.9434239 , 1.45756792, 1.16605434])"
      ]
     },
     "execution_count": 4,
     "metadata": {},
     "output_type": "execute_result"
    }
   ],
   "source": [
    "Guassian_taper(-8, 30, np.array([90,120,150]))"
   ]
  },
  {
   "cell_type": "code",
   "execution_count": null,
   "id": "0d316f99",
   "metadata": {},
   "outputs": [],
   "source": []
  }
 ],
 "metadata": {
  "kernelspec": {
   "display_name": "CCATholo",
   "language": "python",
   "name": "python3"
  },
  "language_info": {
   "codemirror_mode": {
    "name": "ipython",
    "version": 3
   },
   "file_extension": ".py",
   "mimetype": "text/x-python",
   "name": "python",
   "nbconvert_exporter": "python",
   "pygments_lexer": "ipython3",
   "version": "3.9.20"
  }
 },
 "nbformat": 4,
 "nbformat_minor": 5
}
