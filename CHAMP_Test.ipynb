{
 "cells": [
  {
   "cell_type": "code",
   "execution_count": 1,
   "metadata": {},
   "outputs": [],
   "source": [
    "import numpy as np\n",
    "import matplotlib.pyplot as plt\n",
    "from GaussianOptics import ThinLens,Gaussian_propagation2d"
   ]
  },
  {
   "cell_type": "code",
   "execution_count": 2,
   "metadata": {},
   "outputs": [],
   "source": [
    "'''CHAMP informations'''\n",
    "Lambda1=0.6311*3\n",
    "win2=0.92*3\n",
    "din2=5.894*3\n",
    "f2=2.674*3\n",
    "p=ThinLens(win2, din2, f2, Lambda1)\n",
    "win1=0.464*3\n",
    "din1=6.507*3\n",
    "f1=6.418*3\n",
    "p_0=ThinLens(p['wout'], din1, f1, Lambda1)\n",
    "Ls=din1+p['dout']"
   ]
  },
  {
   "cell_type": "code",
   "execution_count": 3,
   "metadata": {},
   "outputs": [],
   "source": [
    "def p_w(dz,s):\n",
    "    p2=ThinLens(win2, din2+dz, f2, Lambda1)\n",
    "    p1=ThinLens(p2['wout'], Ls-p2['dout'], f1, Lambda1)\n",
    "    z_c, w_z, Rin, q1, phi1, beam = Gaussian_propagation2d(p1['wout'],s-dz-p_0['dout'],Lambda1)\n",
    "    return p1['dout']-p_0['dout'], p1['wout'], w_z"
   ]
  },
  {
   "cell_type": "code",
   "execution_count": 4,
   "metadata": {},
   "outputs": [],
   "source": [
    "# %%\n",
    "S=300\n",
    "z=np.linspace(-10,30,2001)\n",
    "D=np.array([])\n",
    "W=np.array([])\n",
    "W_s=np.array([])\n",
    "for item in z:\n",
    "     d,w,w_s=p_w(item,S)\n",
    "     D=np.append(D,d)\n",
    "     W=np.append(W,w)\n",
    "     W_s=np.append(W_s,w_s)\n"
   ]
  },
  {
   "cell_type": "code",
   "execution_count": 5,
   "metadata": {},
   "outputs": [],
   "source": [
    "S1=200\n",
    "z=np.linspace(-10,30,2001)\n",
    "D1=np.array([])\n",
    "W1=np.array([])\n",
    "W_s1=np.array([])\n",
    "for item in z:\n",
    "     d,w,w_s=p_w(item,S1)\n",
    "     D1=np.append(D1,d)\n",
    "     W1=np.append(W1,w)\n",
    "     W_s1=np.append(W_s1,w_s)"
   ]
  },
  {
   "cell_type": "code",
   "execution_count": 6,
   "metadata": {},
   "outputs": [],
   "source": [
    "S2=100\n",
    "z=np.linspace(-10,30,2001)\n",
    "D2=np.array([])\n",
    "W2=np.array([])\n",
    "W_s2=np.array([])\n",
    "for item in z:\n",
    "     d,w,w_s=p_w(item,S2)\n",
    "     D2=np.append(D2,d)\n",
    "     W2=np.append(W2,w)\n",
    "     W_s2=np.append(W_s2,w_s)"
   ]
  },
  {
   "cell_type": "code",
   "execution_count": 7,
   "metadata": {},
   "outputs": [
    {
     "data": {
      "text/plain": [
       "[<matplotlib.lines.Line2D at 0x1a126bf3be0>]"
      ]
     },
     "execution_count": 7,
     "metadata": {},
     "output_type": "execute_result"
    },
    {
     "data": {
      "image/png": "[encoded data removed]",
      "text/plain": [
       "<Figure size 432x288 with 1 Axes>"
      ]
     },
     "metadata": {
      "needs_background": "light"
     },
     "output_type": "display_data"
    }
   ],
   "source": [
    "plt.plot(z,W_s)\n",
    "plt.plot(z,W_s1)\n",
    "plt.plot(z,W_s2)\n"
   ]
  },
  {
   "cell_type": "code",
   "execution_count": null,
   "metadata": {},
   "outputs": [],
   "source": []
  }
 ],
 "metadata": {
  "kernelspec": {
   "display_name": "CCATholo",
   "language": "python",
   "name": "python3"
  },
  "language_info": {
   "codemirror_mode": {
    "name": "ipython",
    "version": 3
   },
   "file_extension": ".py",
   "mimetype": "text/x-python",
   "name": "python",
   "nbconvert_exporter": "python",
   "pygments_lexer": "ipython3",
   "version": "3.9.12"
  }
 },
 "nbformat": 4,
 "nbformat_minor": 2
}
