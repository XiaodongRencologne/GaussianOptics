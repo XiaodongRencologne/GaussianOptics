{
 "cells": [
  {
   "cell_type": "code",
   "execution_count": null,
   "metadata": {},
   "outputs": [],
   "source": [
    "# %%\n",
    "import numpy as np\n",
    "from GaussianOptics import ThinLens,Gaussian_propagation2d\n",
    "# %%\n",
    "def GaussianTelescope(win,f1,f2,Lambda):\n",
    "    M1=ThinLens(win,f1,f1,Lambda)\n",
    "    M2=Thinlens(M1['wout'],f2,f2,Lambda)\n",
    "    print(M1['M']*M2['M'])\n",
    "    return M1,M2\n",
    "# %%\n",
    "Mp=GaussianTelescope(10,20,1.4,1.0162456203)\n",
    "# %%\n",
    "Mp\n",
    "# %%\n"
   ]
  }
 ],
 "metadata": {
  "language_info": {
   "name": "python"
  }
 },
 "nbformat": 4,
 "nbformat_minor": 2
}
