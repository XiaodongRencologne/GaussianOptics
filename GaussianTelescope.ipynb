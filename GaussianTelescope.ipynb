{
 "cells": [
  {
   "cell_type": "code",
   "execution_count": 2,
   "metadata": {},
   "outputs": [
    {
     "name": "stdout",
     "output_type": "stream",
     "text": [
      "0.07\n"
     ]
    },
    {
     "data": {
      "text/plain": [
       "({'Lambda': 1.0162456203,\n",
       "  'f': 20,\n",
       "  'win': 10,\n",
       "  'din': 20,\n",
       "  'Rin': 4798.288589545965,\n",
       "  'q1': (20+309.1371407497315j),\n",
       "  'phi1': 0.06460616743195167,\n",
       "  'wout': 0.6469620554649376,\n",
       "  'dout': 20.0,\n",
       "  'Rout': 20.08371198024228,\n",
       "  'q2': (20+1.293924110929875j),\n",
       "  'phi2': 1.506190159362945,\n",
       "  'M': 0.06469620554649376},\n",
       " {'Lambda': 1.0162456203,\n",
       "  'f': 1.4,\n",
       "  'win': 0.6469620554649376,\n",
       "  'din': 1.4,\n",
       "  'Rin': 2.5958854320326195,\n",
       "  'q1': (1.4+1.293924110929875j),\n",
       "  'phi1': 0.8247538071515632,\n",
       "  'wout': 0.7000000000000001,\n",
       "  'dout': 1.4,\n",
       "  'Rout': 3.038952986214267,\n",
       "  'q2': (1.4+1.5147719896736846j),\n",
       "  'phi2': 0.7460425196433332,\n",
       "  'M': 1.0819799926240603})"
      ]
     },
     "execution_count": 2,
     "metadata": {},
     "output_type": "execute_result"
    }
   ],
   "source": [
    "# %%\n",
    "import numpy as np\n",
    "from GaussianOptics import ThinLens,Gaussian_propagation2d\n",
    "# %%\n",
    "def GaussianTelescope(win,f1,f2,Lambda):\n",
    "    M1=ThinLens(win,f1,f1,Lambda)\n",
    "    M2=ThinLens(M1['wout'],f2,f2,Lambda)\n",
    "    print(M1['M']*M2['M'])\n",
    "    return M1,M2\n",
    "# %%\n",
    "Mp=GaussianTelescope(10,20,1.4,1.0162456203)\n",
    "# %%\n",
    "Mp\n",
    "# %%\n"
   ]
  },
  {
   "cell_type": "code",
   "execution_count": null,
   "metadata": {},
   "outputs": [],
   "source": []
  }
 ],
 "metadata": {
  "kernelspec": {
   "display_name": "ccatholo",
   "language": "python",
   "name": "python3"
  },
  "language_info": {
   "codemirror_mode": {
    "name": "ipython",
    "version": 3
   },
   "file_extension": ".py",
   "mimetype": "text/x-python",
   "name": "python",
   "nbconvert_exporter": "python",
   "pygments_lexer": "ipython3",
   "version": "3.9.18"
  }
 },
 "nbformat": 4,
 "nbformat_minor": 2
}
