{
 "cells": [
  {
   "cell_type": "code",
   "execution_count": 1,
   "metadata": {},
   "outputs": [],
   "source": [
    "import numpy as np;\n",
    "import matplotlib.pyplot as plt;\n",
    "\n",
    "def Quasi_Optics(Input,Size=5,F='f1'):\n",
    "    # input parameters:\n",
    "    '''\n",
    "    1.lambda;\n",
    "    2.W_in;\n",
    "    3.d_in;\n",
    "    4.angle(incident angle);\n",
    "    # next parameters just one of them need to be given.\n",
    "    5.f(focal length)\n",
    "    5.dout(distance between output beam waist and mirror center.)\n",
    "    '''\n",
    "    #1. read the data from input file.\n",
    "    #Input=input('Type in the full name of input file');\n",
    "    \n",
    "    Para={};\n",
    "    with open(Input) as File:\n",
    "        for line in File:\n",
    "            (key,val,sep)=line.split(',');\n",
    "            Para[key]=np.asfarray(np.array([val]),float)[0];\n",
    "    \n",
    "    Lambda=Para['lambda'];\n",
    "    angle=Para['angle']/2;\n",
    "    w_in=Para['W_in'];\n",
    "    print('win:',w_in);\n",
    "    d_in=Para['d_in'];\n",
    "    # beam size\n",
    "    Theta_beam=np.arctan(Lambda/(np.pi*w_in)); \n",
    "    zc=np.pi*w_in**2/Lambda;\n",
    "    print('half axis of mirror:',Size/2*w_in*np.sqrt(1+(d_in)**2/zc**2))\n",
    "    \n",
    "    #2. check which parameter we used.\n",
    "    if 'f' in  Para.keys():\n",
    "        f=Para['f'];\n",
    "        fact1=d_in/f-1;\n",
    "        fact2=np.pi*w_in**2/(Lambda*f);\n",
    "        fact2=1/(fact1**2+fact2**2);\n",
    "        w_out=w_in*np.sqrt(fact2);\n",
    "        d_out=f*(1+fact1*fact2);\n",
    "        Rin=d_in+zc**2/d_in;\n",
    "        zc_out=np.pi*w_out**2/Lambda;\n",
    "        Rout=d_out+zc_out**2/d_out;\n",
    "        print('Rin:',Rin,'\\n','dout:',d_out,'\\n','wout:',w_out,'\\n','Rout:',Rout,'\\n','dout:',d_out,'\\n');\n",
    "        \n",
    "    elif 'd_out' in Para.keys():\n",
    "        d_out=Para['d_out'];\n",
    "        a=d_out+d_in;\n",
    "        b=-(d_in**2+zc**2+2*d_in*d_out);\n",
    "        c=d_out*(zc**2+d_in**2);\n",
    "        d=b**2-4*a*c;\n",
    "        \n",
    "        f1=(-b+np.sqrt(d))/(2*a);\n",
    "        f2=(-b-np.sqrt(d))/(2*a);\n",
    "        if F=='f1':\n",
    "            f=f1;\n",
    "            fact1=d_in/f-1;\n",
    "            fact2=np.pi*w_in**2/(Lambda*f);\n",
    "            fact2=1/(fact1**2+fact2**2);\n",
    "            w_out=w_in*np.sqrt(fact2);\n",
    "            zc_out=np.pi*w_out**2/Lambda;\n",
    "            Rin=d_in+zc**2/d_in;\n",
    "            print('w',w_in*np.sqrt(1+50**2/zc**2)*2.5)\n",
    "            Rout=d_out+zc_out**2/d_out;\n",
    "            print('f1:',f1,'\\n','Wout:',w_out,'\\n','W_in:',w_in,'\\n','R_out:',Rout,'\\n','R_in:',Rin,'\\n','Conic center:',Rin,'\\n','Conic center out:',Rout);\n",
    "            print('ratio:',Rout/Rin);\n",
    "        elif F=='f2':\n",
    "            f=f2;\n",
    "            fact1=d_in/f-1;\n",
    "            fact2=np.pi*w_in**2/(Lambda*f);\n",
    "            fact2=1/(fact1**2+fact2**2);\n",
    "            w_out=w_in*np.sqrt(fact2);\n",
    "            zc_out=np.pi*w_out**2/Lambda;\n",
    "            Rin=d_in+zc**2/d_in;\n",
    "            Rout=d_out+zc_out**2/d_out;\n",
    "            print('f2:',f2,'\\n','Wout:',w_out,'\\n','W_in:',w_in,'\\n','R_out:',Rout,'\\n','R_in:',Rin,'\\n','Conic center:',Rin,'\\n','Conic center out:',Rout);\n",
    "            #print(Rout/Rin);\n",
    "            \n",
    "        \n",
    "    return f,Rin,d_in,Rout,d_out,w_out,angle*2,Theta_beam,Lambda;\n",
    "\n",
    "\n",
    "def Mirror(focal_length,Rin,Rout,angle,Theta_beam,Size=5,Mirror_type='concave'):\n",
    "    angle=angle*np.pi/180;\n",
    "    if Mirror_type=='concave':\n",
    "        a=np.abs(Rin+Rout)/2;\n",
    "        b=np.sqrt(Rin*np.abs(Rout)/2*(1+np.cos(angle)));\n",
    "        c=1/2*np.sqrt(Rin**2+Rout**2+2*Rin*np.abs(Rout)*np.cos(angle));\n",
    "        p=b**2/a;\n",
    "        e=c/a;\n",
    "        phi_0=np.arccos((Rin**2+4*c**2-Rout**2)/(4*c*Rin))\n",
    "        phi_max=phi_0+Size/2*Theta_beam;\n",
    "        phi_min=phi_0-Size/2*Theta_beam;\n",
    "        t=np.linspace(phi_min,phi_max,101);\n",
    "        \n",
    "        dx=np.linspace(0,1,101)\n",
    "        rho_0=p/(1+e*np.cos(phi_0))*dx;  \n",
    "        print('phi_0:',phi_0/np.pi*180);\n",
    "        plt.plot(rho_0*np.cos(phi_0),rho_0*np.sin(phi_0));\n",
    "        \n",
    "        \n",
    "        # plot the mirror size;\n",
    "        Curve=p/(1+e*np.cos(t))\n",
    "        plt.plot(Curve*np.cos(t),Curve*np.sin(t),'r-')\n",
    "        #plot the elliptic \n",
    "        t=np.linspace(0,2*np.pi,101);\n",
    "        print('p',p)\n",
    "        Curve=p/(1+e*np.cos(t))\n",
    "        plt.plot(Curve*np.cos(t),Curve*np.sin(t),'k--');\n",
    "        \n",
    "    else:\n",
    "        a=np.abs(Rin+Rout)/2;\n",
    "        b=np.sqrt(Rin*np.abs(Rout)/2*(1-np.cos(angle)));\n",
    "\n",
    "        c=1/2*np.sqrt(Rin**2+Rout**2+2*Rin*np.abs(Rout)*np.cos(angle));\n",
    "        p=b**2/a;\n",
    "        e=c/a;\n",
    "        phi_0=np.pi-np.arccos((Rin**2+4*c**2-Rout**2)/(4*c*Rin))\n",
    "        phi_max=phi_0+Size/2*Theta_beam;\n",
    "        phi_min=phi_0-Size/2*Theta_beam;\n",
    "        t=np.linspace(phi_min,phi_max,101);\n",
    "        \n",
    "        dx=np.linspace(0,1,101)\n",
    "        rho_0=p/(1+e*np.cos(phi_0))*dx;  \n",
    "        print('phi_0:',phi_0/np.pi*180);\n",
    "        plt.plot(rho_0*np.cos(phi_0),rho_0*np.sin(phi_0));\n",
    "        \n",
    "        \n",
    "        # plot the mirror size;\n",
    "        Curve=p/(1+e*np.cos(t))\n",
    "        plt.plot(Curve*np.cos(t),Curve*np.sin(t),'r-')\n",
    "        #plot the elliptic \n",
    "        t=np.linspace(0,2*np.pi,101);\n",
    "        print('p',p)\n",
    "        Curve=p/(1+e*np.cos(t))\n",
    "        plt.plot(Curve*np.cos(t),Curve*np.sin(t),'k--');\n",
    "        \n",
    "    print('e:',e,'\\n','a:',a,'\\n','b:',b,'\\n','c:',c)\n",
    "    return phi_0,Size/2*Theta_beam,e,a,b,c;\n",
    "\n",
    "def Ellips(focal_length,Rin,Rout,angle,Theta_beam,Size=5):\n",
    "    angle=angle*np.pi/180;\n",
    "\n",
    "    a=np.abs(Rin+Rout)/2;\n",
    "    b=np.sqrt(Rin*np.abs(Rout)/2*(1+np.cos(angle)));\n",
    "    c=1/2*np.sqrt(Rin**2+Rout**2-2*Rin*np.abs(Rout)*np.cos(angle));\n",
    "    p=b**2/a;\n",
    "    e=c/a;\n",
    "    phi_0=np.arccos((Rin**2+4*c**2-Rout**2)/(4*c*Rin))\n",
    "    phi_max=phi_0+Size/2*Theta_beam;\n",
    "    phi_min=phi_0-Size/2*Theta_beam;\n",
    "    t=np.linspace(phi_min,phi_max,101);\n",
    "        \n",
    "    dx=np.linspace(0,1,101)\n",
    "    rho_0=p/(1+e*np.cos(phi_0))*dx;  \n",
    "    print('phi_0:',phi_0/np.pi*180);\n",
    "    plt.plot(rho_0*np.cos(phi_0),rho_0*np.sin(phi_0));\n",
    "        \n",
    "        \n",
    "    # plot the mirror size;\n",
    "    Curve=p/(1+e*np.cos(t))\n",
    "    plt.plot(Curve*np.cos(t),Curve*np.sin(t),'r-')\n",
    "    #plot the elliptic \n",
    "    t=np.linspace(0,2*np.pi,101);\n",
    "    print('p',p)\n",
    "    Curve=p/(1+e*np.cos(t))\n",
    "    plt.plot(Curve*np.cos(t),Curve*np.sin(t),'k--');\n",
    "        \n",
    "    print('e:',e,'\\n','a:',a,'\\n','b:',b,'\\n','c:',c)\n",
    "    return phi_0,Size/2*Theta_beam,e,a,b,c;\n",
    "\n",
    "    \n",
    "def center_projector(beta,alpha,e,a,c):\n",
    "    y0=(1+e)*(e*np.cos(beta)+np.cos(alpha))*np.sin(beta)*(a-c)\n",
    "    Y=(1-e**2)*np.sin(beta)**2+(np.cos(beta)+e*np.cos(alpha))**2\n",
    "    y0=y0/Y;\n",
    "    \n",
    "    a2=((1+e)*np.sin(alpha)*(a-c))**2/Y\n",
    "    \n",
    "    b2=((1+e)*(np.cos(beta)+e*np.cos(alpha))*np.sin(alpha)*(a-c))**2/Y**2;\n",
    "    \n",
    "    return y0,np.sqrt(a2),np.sqrt(b2);\n",
    "\n",
    "size=5"
   ]
  },
  {
   "cell_type": "code",
   "execution_count": 2,
   "metadata": {},
   "outputs": [],
   "source": [
    "#produce input file\n",
    "#produce M2.txt\n",
    "Lambda=1.0162456203\n",
    "win2=1.4;din2=33.73731665;angle2=90;f2=67.80690232;\n",
    "size=5\n",
    "\n",
    "M2=np.array([['lambda',Lambda,''],\n",
    "             ['W_in',win2,''],\n",
    "             ['d_in',din2,''],\n",
    "             ['angle',angle2,''],\n",
    "             #['d_out',dout2,'']])\n",
    "             ['f',f2,'']])\n",
    "np.savetxt('M2.txt',M2,delimiter=\",\",fmt='%s')\n"
   ]
  },
  {
   "cell_type": "code",
   "execution_count": 3,
   "metadata": {},
   "outputs": [
    {
     "name": "stdout",
     "output_type": "stream",
     "text": [
      "M2\n",
      "win: 1.4\n",
      "half axis of mirror: 19.799980648712186\n",
      "Rin: 34.8255047614632 \n",
      " dout: -63.00810134571082 \n",
      " wout: 2.7433005371299104 \n",
      " Rout: -71.59822731629545 \n",
      " dout: -63.00810134571082 \n",
      "\n",
      "phi_0: 64.06162944529693\n",
      "p 67.80690232\n",
      "e: 2.1651538810504327 \n",
      " a: 18.386361277416125 \n",
      " b: 35.30895358344659 \n",
      " c: 39.809301478192914\n"
     ]
    },
    {
     "data": {
      "image/png": "[encoded data removed]",
      "text/plain": [
       "<Figure size 432x288 with 1 Axes>"
      ]
     },
     "metadata": {
      "needs_background": "light"
     },
     "output_type": "display_data"
    }
   ],
   "source": [
    "# mirror 2\n",
    "print('M2');\n",
    "f2,Rin2,din2,Rout2,dout2,w_out2,angle2,Theta_beam,Lambda=Quasi_Optics('M2.txt',size,'f2')\n",
    "beta2,alpha2,e2,a2,b2,c2=Mirror(f2,Rin2,Rout2,angle2,Theta_beam,Size=size,Mirror_type='concave')\n",
    "#Theta_beam*Rin2"
   ]
  },
  {
   "cell_type": "code",
   "execution_count": null,
   "metadata": {},
   "outputs": [],
   "source": [
    "#produce M1.txt\n",
    "win1=w_out2;din1=169.438;angle1=90;f1=170\n",
    ";\n",
    "M1=np.array([['lambda',Lambda,''],\n",
    "             ['W_in',win1,''],\n",
    "             ['d_in',din1,''],\n",
    "             ['angle',angle1,''],\n",
    "             #['d_out',dout1,'']])\n",
    "             ['f',f1,'']])\n",
    "np.savetxt('M1.txt',M1,delimiter=\",\",fmt='%s')"
   ]
  },
  {
   "cell_type": "code",
   "execution_count": null,
   "metadata": {},
   "outputs": [],
   "source": [
    "print('M1');\n",
    "f1,Rin1,din1,Rout1,dout1,w_out1,angle1,Theta_beam,Lambda=Quasi_Optics('M1.txt',size,'f2')\n",
    "beta1,alpha1,e1,a1,b1,c1=Ellips(f1,Rin1,Rout1,angle1,Theta_beam,Size=size)\n",
    "center_projector(beta1,alpha1,e1,a1,c1)\n",
    "Theta_beam*Rin1"
   ]
  },
  {
   "cell_type": "code",
   "execution_count": null,
   "metadata": {},
   "outputs": [],
   "source": [
    "'''\n",
    "produce coordinate frame of concave case;\n",
    "1. A2 coordinate M2 (Z,X);\n",
    "2. rim x0, y_axis, x_axis;\n",
    "3. origin of m1 coordinate and rotation anglu;\n",
    "4. \n",
    "'''\n",
    "\n",
    "A2=0-np.arccos(-(Rout2**2-4*c2**2-Rin2**2)/(4*c2*Rin2));\n",
    "print('Rotation of M2 coord z:',np.cos(A2));\n",
    "print('Rotation of M2 coord x:',np.sin(A2));\n",
    "\n",
    "x0,y_axis,x_axis=center_projector(A2,alpha2,e2,a2,c2)\n",
    "print('x0:',x0);\n",
    "print('y_axis:',y_axis);\n",
    "print('x_axis:',x_axis);\n",
    "\n",
    "print('m1 origin coord system z:',Rin2+(Rin1-(din1+dout2))*np.cos(angle2/180*np.pi));\n",
    "print('m1 origin coord system x:',0-(Rin1-(din1+dout2))*np.sin(angle2/180*np.pi))\n",
    "\n",
    "\n",
    "\n",
    "print('rotation of m1 coord z:',np.cos(-angle2/180*np.pi));\n",
    "print('rotation of m1 coord x:',np.sin(-angle2/180*np.pi));\n",
    "\n",
    "A1=np.arccos(-(Rout1**2-4*c1**2-Rin1**2)/(4*c1*Rin1));\n",
    "print('roation angul of surface m1:',-A1*180/np.pi)"
   ]
  },
  {
   "cell_type": "code",
   "execution_count": null,
   "metadata": {},
   "outputs": [],
   "source": [
    "2*a1"
   ]
  },
  {
   "cell_type": "code",
   "execution_count": null,
   "metadata": {},
   "outputs": [],
   "source": [
    "2*c1"
   ]
  },
  {
   "cell_type": "code",
   "execution_count": null,
   "metadata": {},
   "outputs": [],
   "source": [
    "Rin2-din2"
   ]
  },
  {
   "cell_type": "code",
   "execution_count": null,
   "metadata": {},
   "outputs": [],
   "source": [
    "2*a1"
   ]
  },
  {
   "cell_type": "code",
   "execution_count": null,
   "metadata": {},
   "outputs": [],
   "source": [
    "Rin1"
   ]
  },
  {
   "cell_type": "code",
   "execution_count": null,
   "metadata": {},
   "outputs": [],
   "source": [
    "Rout1"
   ]
  },
  {
   "cell_type": "code",
   "execution_count": null,
   "metadata": {},
   "outputs": [],
   "source": [
    "162+19"
   ]
  },
  {
   "cell_type": "code",
   "execution_count": null,
   "metadata": {},
   "outputs": [],
   "source": [
    "-Rout2*np.cos(np.pi/4)+Rin2"
   ]
  },
  {
   "cell_type": "code",
   "execution_count": null,
   "metadata": {},
   "outputs": [],
   "source": [
    "Rout2*np.sin(np.pi/4)"
   ]
  },
  {
   "cell_type": "code",
   "execution_count": null,
   "metadata": {},
   "outputs": [],
   "source": [
    "180-50.42190848345773"
   ]
  },
  {
   "cell_type": "code",
   "execution_count": null,
   "metadata": {},
   "outputs": [],
   "source": [
    "a2*2"
   ]
  },
  {
   "cell_type": "code",
   "execution_count": null,
   "metadata": {},
   "outputs": [],
   "source": [
    "dout1"
   ]
  },
  {
   "cell_type": "code",
   "execution_count": null,
   "metadata": {},
   "outputs": [],
   "source": [
    "A2/np.pi*180"
   ]
  },
  {
   "cell_type": "code",
   "execution_count": null,
   "metadata": {},
   "outputs": [],
   "source": [
    "5/180*np.pi"
   ]
  },
  {
   "cell_type": "code",
   "execution_count": null,
   "metadata": {},
   "outputs": [],
   "source": [
    "Lambda/1.4/np.pi*180/np.pi"
   ]
  },
  {
   "cell_type": "code",
   "execution_count": null,
   "metadata": {},
   "outputs": [],
   "source": [
    "20*np.log10(np.exp(-1))"
   ]
  },
  {
   "cell_type": "code",
   "execution_count": null,
   "metadata": {},
   "outputs": [],
   "source": []
  }
 ],
 "metadata": {
  "kernelspec": {
   "display_name": "Python 3",
   "language": "python",
   "name": "python3"
  },
  "language_info": {
   "codemirror_mode": {
    "name": "ipython",
    "version": 3
   },
   "file_extension": ".py",
   "mimetype": "text/x-python",
   "name": "python",
   "nbconvert_exporter": "python",
   "pygments_lexer": "ipython3",
   "version": "3.9.12"
  }
 },
 "nbformat": 4,
 "nbformat_minor": 2
}
